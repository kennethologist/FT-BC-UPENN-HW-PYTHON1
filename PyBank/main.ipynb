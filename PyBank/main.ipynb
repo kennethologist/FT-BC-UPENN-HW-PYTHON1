{
 "cells": [
  {
   "cell_type": "code",
   "execution_count": 3,
   "metadata": {},
   "outputs": [],
   "source": [
    "from pathlib import Path\n",
    "import csv"
   ]
  },
  {
   "cell_type": "code",
   "execution_count": 52,
   "metadata": {},
   "outputs": [
    {
     "name": "stdout",
     "output_type": "stream",
     "text": [
      "Financial Analysis\n",
      "-----------------------------------\n",
      "Total Months: 86\n",
      "Total: $38382578.0\n",
      "Average  Change: $7803.476744186047\n",
      "Greatest Increase in Profits: Feb-2012 ($1926159.0)\n",
      "Greatest Decrease in Profits: Sep-2013 ($-2196167.0)\n"
     ]
    }
   ],
   "source": [
    "csvpath = Path(\"budget_data.csv\")\n",
    "\n",
    "budget = []\n",
    "line_num = 0\n",
    "\n",
    "greatest_profit = {\"month\": \"none\", \"amount\": 0}\n",
    "greatest_loss = {\"month\": \"none\", \"amount\": 0}\n",
    "change_total = 0\n",
    "prev_amount = 0\n",
    "total = 0\n",
    "total_months = 0\n",
    "with open(csvpath, \"r\") as csvfile:\n",
    "    csvreader = csv.reader(csvfile, delimiter=',')\n",
    "\n",
    "    #Get Header\n",
    "    header = next(csvreader)\n",
    "    line_num += 1\n",
    "\n",
    "    \n",
    "    for row in csvreader:\n",
    "        total_months += 1\n",
    "        amount = float(row[1])\n",
    "\n",
    "        difference = amount - prev_amount\n",
    "\n",
    "        if difference > greatest_profit[\"amount\"]:\n",
    "            greatest_profit[\"month\"] = row[0]\n",
    "            greatest_profit[\"amount\"] = difference\n",
    "        elif difference < greatest_loss[\"amount\"]:\n",
    "            greatest_loss[\"month\"] = row[0]\n",
    "            greatest_loss[\"amount\"] = difference\n",
    "\n",
    "        prev_amount = amount\n",
    "        total += amount\n",
    "        change_total += difference\n",
    "        \n",
    "    print(\"Financial Analysis\")\n",
    "    print(\"-----------------------------------\")\n",
    "    print(f\"Total Months: {total_months}\")\n",
    "    print(f\"Total: ${total}\")\n",
    "    print(f\"Average  Change: ${change_total/total_months}\")\n",
    "    print(f\"Greatest Increase in Profits: {greatest_profit['month']} (${greatest_profit['amount']})\")\n",
    "    print(f\"Greatest Decrease in Profits: {greatest_loss['month']} (${greatest_loss['amount']})\")\n"
   ]
  }
 ],
 "metadata": {
  "interpreter": {
   "hash": "b3ba2566441a7c06988d0923437866b63cedc61552a5af99d1f4fb67d367b25f"
  },
  "kernelspec": {
   "display_name": "Python 3.8.8 64-bit ('base': conda)",
   "language": "python",
   "name": "python3"
  },
  "language_info": {
   "name": "python",
   "version": "3.8.8"
  },
  "orig_nbformat": 4
 },
 "nbformat": 4,
 "nbformat_minor": 2
}
