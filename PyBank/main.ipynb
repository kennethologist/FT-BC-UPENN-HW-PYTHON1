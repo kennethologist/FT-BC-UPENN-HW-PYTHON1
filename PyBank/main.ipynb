{
 "cells": [
  {
   "cell_type": "code",
   "execution_count": 2,
   "metadata": {},
   "outputs": [],
   "source": [
    "from pathlib import Path\n",
    "import csv"
   ]
  },
  {
   "cell_type": "code",
   "execution_count": 50,
   "metadata": {},
   "outputs": [],
   "source": [
    "#Functions \n",
    "def produceReport(data):\n",
    "    with open(\"report_template.txt\", 'r') as file:\n",
    "        report = file.read()\n",
    "        report = report.format(data[\"total_months\"], \n",
    "            data[\"total\"], \n",
    "            data[\"avg_change\"],  \n",
    "            data[\"greatest_increase_month\"], \n",
    "            data[\"greatest_increase_amount\"],\n",
    "            data[\"greatest_decrease_month\"], \n",
    "            data[\"greatest_decrease_amount\"]\n",
    "        )\n",
    "\n",
    "        print(report)\n",
    "        with open(\"output.txt\", \"w\") as file:\n",
    "            file.write(report)\n"
   ]
  },
  {
   "cell_type": "code",
   "execution_count": 51,
   "metadata": {},
   "outputs": [
    {
     "name": "stdout",
     "output_type": "stream",
     "text": [
      "Financial Analysis\n",
      "-----------------------------------\n",
      "Total Months: 86\n",
      "Total: $38382578.0\n",
      "Average  Change: $6196.15\n",
      "Greatest Increase in Profits: Feb-2012 ($1926159.0)\n",
      "Greatest Decrease in Profits: Sep-2013 ($-2196167.0)\n",
      "\n"
     ]
    }
   ],
   "source": [
    "csvpath = Path(\"budget_data.csv\")\n",
    "\n",
    "budget = []\n",
    "line_num = 0\n",
    "\n",
    "change_total = 0\n",
    "prev_amount = 0\n",
    "results = {\n",
    "    \"total_months\": 0, \n",
    "    \"total\": 0, \n",
    "    \"avg_change\": 0, \n",
    "    \"greatest_increase_month\":\"\",\n",
    "    \"greatest_increase_amount\": 0,\n",
    "    \"greatest_decrease_month\": \"\",\n",
    "    \"greatest_decrease_amount\": 0\n",
    "    }\n",
    "with open(csvpath, \"r\") as csvfile:\n",
    "    csvreader = csv.reader(csvfile, delimiter=',')\n",
    "\n",
    "    #Get Header\n",
    "    header = next(csvreader)\n",
    "    line_num += 1\n",
    "\n",
    "    \n",
    "    for row in csvreader:\n",
    "        results['total_months'] += 1\n",
    "        amount = float(row[1])\n",
    "\n",
    "        difference = amount - prev_amount\n",
    "\n",
    "        if difference > results['greatest_increase_amount']:\n",
    "            results[\"greatest_increase_month\"] = row[0]\n",
    "            results[\"greatest_increase_amount\"] = difference\n",
    "        elif difference < results['greatest_decrease_amount']:\n",
    "            results['greatest_decrease_month'] = row[0]\n",
    "            results['greatest_decrease_amount'] = difference\n",
    "\n",
    "        prev_amount = amount\n",
    "        results['total'] += amount\n",
    "        change_total += difference\n",
    "    \n",
    "results['avg_change'] = round(difference / results['total_months'], 2)\n",
    "\n",
    "\n",
    "\n",
    "output_path = Path(\"output.txt\")\n",
    "produceReport(results)\n"
   ]
  },
  {
   "cell_type": "code",
   "execution_count": null,
   "metadata": {},
   "outputs": [],
   "source": []
  }
 ],
 "metadata": {
  "interpreter": {
   "hash": "b3ba2566441a7c06988d0923437866b63cedc61552a5af99d1f4fb67d367b25f"
  },
  "kernelspec": {
   "display_name": "Python 3.8.8 64-bit ('base': conda)",
   "language": "python",
   "name": "python3"
  },
  "language_info": {
   "codemirror_mode": {
    "name": "ipython",
    "version": 3
   },
   "file_extension": ".py",
   "mimetype": "text/x-python",
   "name": "python",
   "nbconvert_exporter": "python",
   "pygments_lexer": "ipython3",
   "version": "3.8.8"
  },
  "orig_nbformat": 4
 },
 "nbformat": 4,
 "nbformat_minor": 2
}
